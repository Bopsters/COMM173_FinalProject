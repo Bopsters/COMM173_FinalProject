{
 "cells": [
  {
   "cell_type": "code",
   "execution_count": 1,
   "id": "ffda6001",
   "metadata": {},
   "outputs": [],
   "source": [
    "from selenium import webdriver\n",
    "import pandas as pd\n",
    "from selenium.webdriver.common.by import By\n",
    "from selenium.webdriver.support.ui import WebDriverWait\n",
    "from selenium.webdriver.support import expected_conditions as EC\n",
    "from selenium.webdriver.common.keys import Keys\n",
    "import time"
   ]
  },
  {
   "cell_type": "code",
   "execution_count": 2,
   "id": "8e5e1395",
   "metadata": {},
   "outputs": [],
   "source": [
    "url = 'https://www.youtube.com/results?search_query=costco+rotisserie+chicken'"
   ]
  },
  {
   "cell_type": "code",
   "execution_count": 15,
   "id": "2439eebb",
   "metadata": {},
   "outputs": [],
   "source": [
    "driver = webdriver.Chrome(('/Users/davidjeong/Documents/COMM170/chromedriver'))\n",
    "driver.get(url)\n",
    "\n",
    "\n",
    "\n",
    "# Need to wait for page to fully load\n",
    "#time.sleep(10)\n",
    "\n",
    "#check your browser to see if the correct page loaded"
   ]
  },
  {
   "cell_type": "code",
   "execution_count": 16,
   "id": "14042c42",
   "metadata": {},
   "outputs": [],
   "source": [
    "# Scroll to bottom of page\n",
    "\n",
    "#The function takes a single argument, \"driver\", which is an instance of the WebDriver class. \n",
    "#This argument is used to interact with the web page and execute JavaScript code.\n",
    "\n",
    "#The function uses a while loop to continuously scroll the web page until the bottom is reached. \n",
    "#The loop continues until the new scroll position is equal to the old scroll position.\n",
    "#This indicates that the page has reached the bottom.\n",
    "\n",
    "#In each iteration of the loop, the function first gets the current scroll position of the page using JavaScript code \n",
    "#executed through the WebDriver's \"execute_script()\" method. The script checks if the \n",
    "#\"window.pageYOffset\" property is defined, which gives the current vertical scroll\n",
    "#position of the page, and returns that value. If \"window.pageYOffset\" is undefined, \n",
    "#the script checks if \"document.documentElement\" or \"document.body.parentNode\" or \n",
    "#\"document.body\" has a scroll position and returns that value instead.\n",
    "\n",
    "#The function then sleeps for 5 seconds using the \"time.sleep()\" method, \n",
    "#to allow time for the page to load and the user to see the scrolling.\n",
    "\n",
    "#Next, the function uses the WebDriver's \"execute_script()\" method to scroll the page down to the bottom. \n",
    "#The script sets the \"scrollTop\" property of the \"scrollingElement\" to the \"scrollHeight\". \n",
    "#The \"scrollingElement\" can be either \"document.scrollingElement\" or \"document.body\". \n",
    "#Setting \"scrollTop\" to \"scrollHeight\" scrolls the page to the bottom.\n",
    "\n",
    "#The function then sleeps for another 5 seconds to allow time for the page to load and for the user to see the scrolling.\n",
    "\n",
    "#Finally, the function gets the new scroll position of the page using JavaScript code similar to the one used earlier, \n",
    "#and assigns it to the \"new_position\" variable.\n",
    "def scroll_to_bottom(driver):\n",
    "    old_position = 0\n",
    "    new_position = None\n",
    "    \n",
    "    while (new_position != old_position):\n",
    "        # Get old scroll position\n",
    "        old_position = driver.execute_script((\"return (window.pageYOffset !== undefined) ?\"\n",
    "                                            \" window.pageYOffset : (document.documentElement ||\"\n",
    "                                            \" document.body.parentNode || document.body);\"))\n",
    "        # Sleep and scroll\n",
    "        time.sleep(5)\n",
    "        driver.execute_script((\"var scrollingElement = (document.scrollingElement ||\"\n",
    "                              \" document.body);scrollingElement.scrollTop = \"\n",
    "                              \" scrollingElement.scrollHeight\"))\n",
    "        \n",
    "        time.sleep(5)\n",
    "        # Get new position\n",
    "        new_position = driver.execute_script((\"return (window.pageYOffset !== undefined) ?\"\n",
    "                                             \" window.pageYOffset : (document.documentElement ||\"\n",
    "                                             \" document.body.parentNode || documentBody);\"))"
   ]
  },
  {
   "cell_type": "code",
   "execution_count": 17,
   "id": "27371589",
   "metadata": {},
   "outputs": [],
   "source": [
    "scroll_to_bottom(driver)\n",
    "\n",
    "#this will start to scroll to the bottom of the page of the search results on its own"
   ]
  },
  {
   "cell_type": "code",
   "execution_count": 18,
   "id": "3c112474",
   "metadata": {},
   "outputs": [],
   "source": [
    "user_data = driver.find_elements(by=By.XPATH,value='//*[@id=\"video-title\"]')"
   ]
  },
  {
   "cell_type": "code",
   "execution_count": 19,
   "id": "43b50eed",
   "metadata": {},
   "outputs": [
    {
     "name": "stdout",
     "output_type": "stream",
     "text": [
      "38\n"
     ]
    }
   ],
   "source": [
    "print(len(user_data))"
   ]
  },
  {
   "cell_type": "code",
   "execution_count": 20,
   "id": "3db57b30",
   "metadata": {},
   "outputs": [
    {
     "name": "stdout",
     "output_type": "stream",
     "text": [
      "24\n"
     ]
    }
   ],
   "source": [
    "#The first line initializes an empty list called \"links\" that will store the extracted links.\n",
    "\n",
    "#The second line starts a for loop that iterates through each element in the \"user_data\" list.\n",
    "\n",
    "#The third line checks whether the current element has an \"href\" attribute, which is commonly used in HTML to indicate a hyperlink. If the \"href\" attribute is not None, meaning it exists, then the code extracts the value of the \"href\" attribute using the \"get_attribute()\" method and appends it to the \"links\" list using the \"append()\" method.\n",
    "\n",
    "#The fourth line prints the length of the \"links\" list, which is the total number of links found in the \"user_data\" list.\n",
    "\n",
    "links = []\n",
    "for i in user_data:\n",
    "    if (i.get_attribute('href') != None):\n",
    "        links.append(i.get_attribute('href'))\n",
    "\n",
    "print(len(links))"
   ]
  },
  {
   "cell_type": "code",
   "execution_count": 21,
   "id": "eb8c69b2",
   "metadata": {},
   "outputs": [],
   "source": [
    "df = pd.DataFrame(columns = ['link', 'title', 'description', 'category'])"
   ]
  },
  {
   "cell_type": "code",
   "execution_count": 24,
   "id": "59dee552",
   "metadata": {},
   "outputs": [],
   "source": [
    "#The first line initializes a string variable \"v_category\" to store the video category.\n",
    "v_category = \"costco_chicken\"\n",
    "\n",
    "#The second line initializes a WebDriverWait object called \"wait\" with a timeout of 50 seconds. \n",
    "#This object will be used to wait for elements to appear on the web page before interacting with them.\n",
    "\n",
    "wait = WebDriverWait(driver, 50)\n",
    "\n",
    "##The code then starts a for loop that iterates through each link in the \"links\" list.\n",
    "#For each link, the code navigates the WebDriver to that link using the \"driver.get()\" method.\n",
    "#The code then initializes 3 variables, \"v_id\", \"v_title\", and \"v_description\", to store the video ID, title, and description.\n",
    "#To extract the video title, the code uses the \"wait.until()\" method to wait for the presence of an element with the CSS selector \"h1.style-scope.ytd-watch-metadata yt-formatted-string\". \n",
    "#Once the element is present, the \"text\" property is extracted and stored in the \"v_title\" variable.\n",
    "\n",
    "#To extract the video description, the code uses the \"wait.until()\" method again to wait for the presence of an element with the CSS selector \"div#snippet yt-formatted-string\". \n",
    "#Once the element is present, the \"text\" property is extracted and stored in the \"v_description\" variable.\n",
    "   \n",
    "for x in links:\n",
    "    driver.get(x)\n",
    "    v_id = x\n",
    "    v_title = wait.until(EC.presence_of_element_located(\n",
    "                   (By.CSS_SELECTOR,\"h1.style-scope.ytd-watch-metadata yt-formatted-string\"))).text\n",
    "\n",
    "    v_description =  wait.until(EC.presence_of_element_located(\n",
    "                                (By.CSS_SELECTOR,\"div#snippet yt-formatted-string\"))).text\n",
    "\n",
    "#Finally, the video data is added to a pandas DataFrame called \"df\" using the \"df.loc[]\" method. The data is added as a new row, with the video ID, title, description, and category in separate columns.\n",
    "    df.loc[len(df)] = [v_id, v_title, v_description, v_category]"
   ]
  },
  {
   "cell_type": "code",
   "execution_count": 25,
   "id": "fe3cbb94",
   "metadata": {},
   "outputs": [],
   "source": [
    "driver.quit()"
   ]
  },
  {
   "cell_type": "code",
   "execution_count": 26,
   "id": "efb99bce",
   "metadata": {},
   "outputs": [
    {
     "name": "stdout",
     "output_type": "stream",
     "text": [
      "                                                 link  \\\n",
      "0   https://www.youtube.com/watch?v=3qTZnwRbFY0&pp...   \n",
      "1   https://www.youtube.com/watch?v=L_2jL8vNiNM&pp...   \n",
      "2   https://www.youtube.com/watch?v=3qTZnwRbFY0&pp...   \n",
      "3   https://www.youtube.com/watch?v=L_2jL8vNiNM&pp...   \n",
      "4   https://www.youtube.com/watch?v=jBFMDZ5ugd4&pp...   \n",
      "5   https://www.youtube.com/watch?v=gXjcwnEpILg&pp...   \n",
      "6   https://www.youtube.com/watch?v=3XDcNI31T2k&pp...   \n",
      "7          https://www.youtube.com/shorts/-50Q3BvM2Xo   \n",
      "8   https://www.youtube.com/watch?v=2QYJQDeOWNA&pp...   \n",
      "9   https://www.youtube.com/watch?v=n0lPRRLkdN0&pp...   \n",
      "10  https://www.youtube.com/watch?v=4fsdW-LHz08&pp...   \n",
      "11  https://www.youtube.com/watch?v=TrdeMIiDEqE&pp...   \n",
      "12  https://www.youtube.com/watch?v=LCT_55TgJsw&pp...   \n",
      "13  https://www.youtube.com/watch?v=j6T4JKuDy3A&pp...   \n",
      "14         https://www.youtube.com/shorts/4lmFIRrNGh0   \n",
      "15  https://www.youtube.com/watch?v=8Yd0MbW_IhI&pp...   \n",
      "16  https://www.youtube.com/watch?v=MSvCK_xH84s&pp...   \n",
      "17  https://www.youtube.com/watch?v=e7Eco6V16dY&pp...   \n",
      "18  https://www.youtube.com/watch?v=hnymeCIhWaA&pp...   \n",
      "19         https://www.youtube.com/shorts/dw_Z37rJKhc   \n",
      "20  https://www.youtube.com/watch?v=uxl4GqLO3z0&pp...   \n",
      "21         https://www.youtube.com/shorts/dMpVdJeLd3s   \n",
      "22         https://www.youtube.com/shorts/3oZF1pkhn_E   \n",
      "23  https://www.youtube.com/watch?v=qkRAUoYLeaU&pp...   \n",
      "24  https://www.youtube.com/watch?v=FzgrIOCQjvA&pp...   \n",
      "25  https://www.youtube.com/watch?v=684h8GVaQgY&pp...   \n",
      "\n",
      "                                                title description  \\\n",
      "0   This Is Why Costco Only Charges $5 For A Rotis...               \n",
      "1   The Big Problem Costco Shoppers Are Currently ...               \n",
      "2   This Is Why Costco Only Charges $5 For A Rotis...               \n",
      "3   The Big Problem Costco Shoppers Are Currently ...               \n",
      "4      Removing Meat from a Costco Rotisserie Chicken               \n",
      "5   Don't Eat Another Costco Rotisserie Chicken Un...               \n",
      "6   10 Easy Costco Chicken Dinners | Recipes You C...               \n",
      "7                                                                   \n",
      "8       Eating A COSTCO ROTISSERIE CHICKEN In The Car               \n",
      "9   Shopping At Costco For Meat & Seafood - What T...               \n",
      "10  The King of Rotisserie! Huge Ribs, Sausages, L...               \n",
      "11  Kinda Sorta Disrespectful? Ft. Fannita || Two ...               \n",
      "12            Costco Myths You Need To Stop Believing               \n",
      "13                   2019 Costco’s rotisserie chicken               \n",
      "14                                                                  \n",
      "15      Can Rie Make Costco Rotisserie Chicken Fancy?               \n",
      "16        Why Is Costco Opening Its Own Chicken Farm?               \n",
      "17  Costco Prepared Food Review - Rotisserie Chick...               \n",
      "18  The Surprising Truth Behind Costco's 5 Dollar ...               \n",
      "19                                                                  \n",
      "20                   2022 Costco's Rotisserie Chicken               \n",
      "21                                                                  \n",
      "22                                                                  \n",
      "23  Pro Chef Turns 2 Rotisserie Chickens Into 4 Me...               \n",
      "24    Costco Rotisserie Chicken!Cost Effective Meals!               \n",
      "25                  Costco Rotisserie Chicken Sausage               \n",
      "\n",
      "          category  \n",
      "0   costco_chicken  \n",
      "1   costco_chicken  \n",
      "2   costco_chicken  \n",
      "3   costco_chicken  \n",
      "4   costco_chicken  \n",
      "5   costco_chicken  \n",
      "6   costco_chicken  \n",
      "7   costco_chicken  \n",
      "8   costco_chicken  \n",
      "9   costco_chicken  \n",
      "10  costco_chicken  \n",
      "11  costco_chicken  \n",
      "12  costco_chicken  \n",
      "13  costco_chicken  \n",
      "14  costco_chicken  \n",
      "15  costco_chicken  \n",
      "16  costco_chicken  \n",
      "17  costco_chicken  \n",
      "18  costco_chicken  \n",
      "19  costco_chicken  \n",
      "20  costco_chicken  \n",
      "21  costco_chicken  \n",
      "22  costco_chicken  \n",
      "23  costco_chicken  \n",
      "24  costco_chicken  \n",
      "25  costco_chicken  \n"
     ]
    }
   ],
   "source": [
    "print(df)"
   ]
  },
  {
   "cell_type": "code",
   "execution_count": 27,
   "id": "0e6f88dd",
   "metadata": {},
   "outputs": [],
   "source": [
    "# Save the DataFrame as a CSV file\n",
    "df.to_csv('comm170_youtube.csv', index=False)"
   ]
  },
  {
   "cell_type": "code",
   "execution_count": null,
   "id": "60d8e96f",
   "metadata": {},
   "outputs": [],
   "source": []
  }
 ],
 "metadata": {
  "kernelspec": {
   "display_name": "Python 3 (ipykernel)",
   "language": "python",
   "name": "python3"
  },
  "language_info": {
   "codemirror_mode": {
    "name": "ipython",
    "version": 3
   },
   "file_extension": ".py",
   "mimetype": "text/x-python",
   "name": "python",
   "nbconvert_exporter": "python",
   "pygments_lexer": "ipython3",
   "version": "3.10.9"
  }
 },
 "nbformat": 4,
 "nbformat_minor": 5
}
